{
 "cells": [
  {
   "cell_type": "markdown",
   "id": "4df8451f",
   "metadata": {},
   "source": [
    "<img src = \"images/logo.PNG\" width=\"200\" height=\"200\" align=\"right\">"
   ]
  },
  {
   "cell_type": "markdown",
   "id": "86b47b15",
   "metadata": {},
   "source": [
    "## Manipulando Banco de Dados SQL Server utilizando Python"
   ]
  },
  {
   "cell_type": "markdown",
   "id": "bbbbf5f0",
   "metadata": {},
   "source": [
    "<img src = \"images/pythonBDs.JPG\" width=\"700\" height=\"700\">"
   ]
  },
  {
   "cell_type": "code",
   "execution_count": 1,
   "id": "c3f144a8",
   "metadata": {},
   "outputs": [],
   "source": [
    "# Importando o driver de conexão. Cada SGBD tem o seu próprio driver.\n",
    "# Caso não esteja instalado, use !pip install pyodbc se quiser instalar via notebook ou no terminal coloque 'pip install pyodbc' \n",
    "import pyodbc\n",
    "import pandas as pd"
   ]
  },
  {
   "cell_type": "code",
   "execution_count": 2,
   "id": "78597721",
   "metadata": {},
   "outputs": [
    {
     "name": "stdout",
     "output_type": "stream",
     "text": [
      "Requirement already satisfied: pyodbc in c:\\programdata\\anaconda3\\lib\\site-packages (4.0.0-unsupported)\n"
     ]
    }
   ],
   "source": [
    "!pip install pyodbc"
   ]
  },
  {
   "cell_type": "markdown",
   "id": "fcc53fef",
   "metadata": {},
   "source": [
    "### 1. Conectando ao Banco de Dados"
   ]
  },
  {
   "cell_type": "code",
   "execution_count": null,
   "id": "c97d2f59",
   "metadata": {},
   "outputs": [],
   "source": [
    "# Para conectar utilizamos a função connect passando DRIVER, SERVIDOR, NOME DA TABELA.\n",
    "conexao = pyodbc.connect('Driver={SQL Server};'\n",
    "                         'Server=server_name;'\n",
    "                         'Database=database_name;'\n",
    "                         'Trusted_Connection=yes;')"
   ]
  },
  {
   "cell_type": "code",
   "execution_count": 22,
   "id": "d62085ec",
   "metadata": {},
   "outputs": [],
   "source": [
    "# Para conectar utilizamos a função connect passando DRIVER, SERVIDOR, NOME DA BASE DE DADOS. Exemplo\n",
    "conexao = pyodbc.connect('Driver={SQL Server};'\n",
    "                         'Server=DESKTOP-C9K8P2T\\SQLEXPRESS;'\n",
    "                         'Database=Colegio_Certo;'\n",
    "                         'Trusted_Connection=yes;')"
   ]
  },
  {
   "cell_type": "code",
   "execution_count": 2,
   "id": "0d5e9657",
   "metadata": {},
   "outputs": [],
   "source": [
    "?pyodbc.connect\n",
    "# DRIVER={SQL Server};SERVER=localhost;DATABASE=testdb;UID=user;PWD=password"
   ]
  },
  {
   "cell_type": "markdown",
   "id": "e8203180",
   "metadata": {},
   "source": [
    "### 2. Operando o Banco de Dados"
   ]
  },
  {
   "cell_type": "markdown",
   "id": "fdebf548",
   "metadata": {},
   "source": [
    "#### Depois de conectar ao banco de dados, precisamos criar um cursor para efetuarmos qualquer transação como, por exemplo, SELECT, INSERT, DELETE..."
   ]
  },
  {
   "cell_type": "code",
   "execution_count": 23,
   "id": "59cec0ce",
   "metadata": {},
   "outputs": [],
   "source": [
    "# Obtendo o cursor\n",
    "cursor = conexao.cursor()"
   ]
  },
  {
   "cell_type": "code",
   "execution_count": 6,
   "id": "3a9e7720",
   "metadata": {},
   "outputs": [],
   "source": [
    "# Executando comandos\n",
    "#cursor.execute(\"ALGUM COMANDO SQL\")"
   ]
  },
  {
   "cell_type": "markdown",
   "id": "2562fc27",
   "metadata": {},
   "source": [
    "####  Exemplo de SELECT"
   ]
  },
  {
   "cell_type": "markdown",
   "id": "f9e37859",
   "metadata": {},
   "source": [
    "<img src = \"images/query_select.PNG\">"
   ]
  },
  {
   "cell_type": "code",
   "execution_count": 8,
   "id": "840ffdb3",
   "metadata": {},
   "outputs": [
    {
     "name": "stdout",
     "output_type": "stream",
     "text": [
      "(1, 'Roger', 30, 'M', 5000.0)\n",
      "(3, 'Carlos', 56, 'M', 3000.0)\n"
     ]
    }
   ],
   "source": [
    "cursor.execute(\"SELECT * FROM Aluno WHERE sexo = 'M'\")\n",
    "for i in cursor:\n",
    "    print(i)"
   ]
  },
  {
   "cell_type": "markdown",
   "id": "de35b1a0",
   "metadata": {},
   "source": [
    "####  Exemplo de SELECT com Pandas"
   ]
  },
  {
   "cell_type": "code",
   "execution_count": null,
   "id": "faf7207e",
   "metadata": {},
   "outputs": [],
   "source": [
    "type(cursor)"
   ]
  },
  {
   "cell_type": "code",
   "execution_count": 9,
   "id": "f20b6f3c",
   "metadata": {},
   "outputs": [],
   "source": [
    "query = \"SELECT * FROM Aluno a WHERE a.sexo = 'F'\"\n",
    "alunos_sexo_masculino = pd.read_sql_query(query,conexao)"
   ]
  },
  {
   "cell_type": "code",
   "execution_count": 11,
   "id": "aa078418",
   "metadata": {},
   "outputs": [
    {
     "data": {
      "text/html": [
       "<div>\n",
       "<style scoped>\n",
       "    .dataframe tbody tr th:only-of-type {\n",
       "        vertical-align: middle;\n",
       "    }\n",
       "\n",
       "    .dataframe tbody tr th {\n",
       "        vertical-align: top;\n",
       "    }\n",
       "\n",
       "    .dataframe thead th {\n",
       "        text-align: right;\n",
       "    }\n",
       "</style>\n",
       "<table border=\"1\" class=\"dataframe\">\n",
       "  <thead>\n",
       "    <tr style=\"text-align: right;\">\n",
       "      <th></th>\n",
       "      <th>matricula</th>\n",
       "      <th>nome_completo</th>\n",
       "      <th>idade</th>\n",
       "      <th>sexo</th>\n",
       "      <th>renda_familiar</th>\n",
       "    </tr>\n",
       "  </thead>\n",
       "  <tbody>\n",
       "    <tr>\n",
       "      <th>0</th>\n",
       "      <td>2</td>\n",
       "      <td>Ana</td>\n",
       "      <td>22</td>\n",
       "      <td>F</td>\n",
       "      <td>2000.0</td>\n",
       "    </tr>\n",
       "  </tbody>\n",
       "</table>\n",
       "</div>"
      ],
      "text/plain": [
       "   matricula nome_completo  idade sexo  renda_familiar\n",
       "0          2           Ana     22    F          2000.0"
      ]
     },
     "execution_count": 11,
     "metadata": {},
     "output_type": "execute_result"
    }
   ],
   "source": [
    "alunos_sexo_masculino"
   ]
  },
  {
   "cell_type": "code",
   "execution_count": 10,
   "id": "ca092261",
   "metadata": {},
   "outputs": [
    {
     "data": {
      "text/plain": [
       "pandas.core.frame.DataFrame"
      ]
     },
     "execution_count": 10,
     "metadata": {},
     "output_type": "execute_result"
    }
   ],
   "source": [
    "type(alunos_sexo_masculino)"
   ]
  },
  {
   "cell_type": "markdown",
   "id": "ce2809af",
   "metadata": {},
   "source": [
    "####  Exemplo de INSERT"
   ]
  },
  {
   "cell_type": "markdown",
   "id": "645022f2",
   "metadata": {},
   "source": [
    "<img src = \"images/query_insert.PNG\">"
   ]
  },
  {
   "cell_type": "code",
   "execution_count": 25,
   "id": "657f3fbe",
   "metadata": {},
   "outputs": [
    {
     "data": {
      "text/plain": [
       "<pyodbc.Cursor at 0x25a70c25430>"
      ]
     },
     "execution_count": 25,
     "metadata": {},
     "output_type": "execute_result"
    }
   ],
   "source": [
    "cursor.execute(\"INSERT INTO ALUNO VALUES (4,'Luiz Santana',42,'M',18000)\")"
   ]
  },
  {
   "cell_type": "code",
   "execution_count": 27,
   "id": "ae780b62",
   "metadata": {},
   "outputs": [
    {
     "data": {
      "text/plain": [
       "<pyodbc.Cursor at 0x25a70c25430>"
      ]
     },
     "execution_count": 27,
     "metadata": {},
     "output_type": "execute_result"
    }
   ],
   "source": [
    "# Com param style\n",
    "cursor.execute(\"INSERT INTO ALUNO  VALUES (?,?,?,?,?)\",(5,'Patrícia Sampaio',50,'F',5000))"
   ]
  },
  {
   "cell_type": "code",
   "execution_count": 28,
   "id": "b132c48b",
   "metadata": {},
   "outputs": [
    {
     "data": {
      "text/html": [
       "<div>\n",
       "<style scoped>\n",
       "    .dataframe tbody tr th:only-of-type {\n",
       "        vertical-align: middle;\n",
       "    }\n",
       "\n",
       "    .dataframe tbody tr th {\n",
       "        vertical-align: top;\n",
       "    }\n",
       "\n",
       "    .dataframe thead th {\n",
       "        text-align: right;\n",
       "    }\n",
       "</style>\n",
       "<table border=\"1\" class=\"dataframe\">\n",
       "  <thead>\n",
       "    <tr style=\"text-align: right;\">\n",
       "      <th></th>\n",
       "      <th>matricula</th>\n",
       "      <th>nome_completo</th>\n",
       "      <th>idade</th>\n",
       "      <th>sexo</th>\n",
       "      <th>renda_familiar</th>\n",
       "    </tr>\n",
       "  </thead>\n",
       "  <tbody>\n",
       "    <tr>\n",
       "      <th>0</th>\n",
       "      <td>1</td>\n",
       "      <td>Roger</td>\n",
       "      <td>30</td>\n",
       "      <td>M</td>\n",
       "      <td>5000.0</td>\n",
       "    </tr>\n",
       "    <tr>\n",
       "      <th>1</th>\n",
       "      <td>2</td>\n",
       "      <td>Ana</td>\n",
       "      <td>22</td>\n",
       "      <td>F</td>\n",
       "      <td>2000.0</td>\n",
       "    </tr>\n",
       "    <tr>\n",
       "      <th>2</th>\n",
       "      <td>3</td>\n",
       "      <td>Carlos</td>\n",
       "      <td>56</td>\n",
       "      <td>M</td>\n",
       "      <td>3000.0</td>\n",
       "    </tr>\n",
       "    <tr>\n",
       "      <th>3</th>\n",
       "      <td>4</td>\n",
       "      <td>Luiz Santana</td>\n",
       "      <td>42</td>\n",
       "      <td>M</td>\n",
       "      <td>18000.0</td>\n",
       "    </tr>\n",
       "    <tr>\n",
       "      <th>4</th>\n",
       "      <td>5</td>\n",
       "      <td>Patrícia Sampaio</td>\n",
       "      <td>50</td>\n",
       "      <td>F</td>\n",
       "      <td>5000.0</td>\n",
       "    </tr>\n",
       "  </tbody>\n",
       "</table>\n",
       "</div>"
      ],
      "text/plain": [
       "   matricula     nome_completo  idade sexo  renda_familiar\n",
       "0          1             Roger     30    M          5000.0\n",
       "1          2               Ana     22    F          2000.0\n",
       "2          3            Carlos     56    M          3000.0\n",
       "3          4      Luiz Santana     42    M         18000.0\n",
       "4          5  Patrícia Sampaio     50    F          5000.0"
      ]
     },
     "execution_count": 28,
     "metadata": {},
     "output_type": "execute_result"
    }
   ],
   "source": [
    "query = \"SELECT * FROM Aluno\"\n",
    "alunos_ = pd.read_sql_query(query,conexao)\n",
    "alunos_"
   ]
  },
  {
   "cell_type": "markdown",
   "id": "78bec239",
   "metadata": {},
   "source": [
    "####  Exemplo de COMMIT, salvando as alterações..."
   ]
  },
  {
   "cell_type": "code",
   "execution_count": 35,
   "id": "3d6350cf",
   "metadata": {},
   "outputs": [],
   "source": [
    "conexao.commit()"
   ]
  },
  {
   "cell_type": "markdown",
   "id": "c15044ff",
   "metadata": {},
   "source": [
    "####  Exemplo de UPDATE"
   ]
  },
  {
   "cell_type": "markdown",
   "id": "73f61528",
   "metadata": {},
   "source": [
    "<img src = \"images/query_update.PNG\">"
   ]
  },
  {
   "cell_type": "code",
   "execution_count": 30,
   "id": "34c046cb",
   "metadata": {},
   "outputs": [
    {
     "data": {
      "text/plain": [
       "<pyodbc.Cursor at 0x25a70c25430>"
      ]
     },
     "execution_count": 30,
     "metadata": {},
     "output_type": "execute_result"
    }
   ],
   "source": [
    "query_atualizacao = \"UPDATE ALUNO SET idade = 50 WHERE matricula = 1\"\n",
    "cursor.execute(query_atualizacao)"
   ]
  },
  {
   "cell_type": "code",
   "execution_count": 31,
   "id": "af011213",
   "metadata": {},
   "outputs": [
    {
     "data": {
      "text/html": [
       "<div>\n",
       "<style scoped>\n",
       "    .dataframe tbody tr th:only-of-type {\n",
       "        vertical-align: middle;\n",
       "    }\n",
       "\n",
       "    .dataframe tbody tr th {\n",
       "        vertical-align: top;\n",
       "    }\n",
       "\n",
       "    .dataframe thead th {\n",
       "        text-align: right;\n",
       "    }\n",
       "</style>\n",
       "<table border=\"1\" class=\"dataframe\">\n",
       "  <thead>\n",
       "    <tr style=\"text-align: right;\">\n",
       "      <th></th>\n",
       "      <th>matricula</th>\n",
       "      <th>nome_completo</th>\n",
       "      <th>idade</th>\n",
       "      <th>sexo</th>\n",
       "      <th>renda_familiar</th>\n",
       "    </tr>\n",
       "  </thead>\n",
       "  <tbody>\n",
       "    <tr>\n",
       "      <th>0</th>\n",
       "      <td>1</td>\n",
       "      <td>Roger</td>\n",
       "      <td>50</td>\n",
       "      <td>M</td>\n",
       "      <td>5000.0</td>\n",
       "    </tr>\n",
       "    <tr>\n",
       "      <th>1</th>\n",
       "      <td>2</td>\n",
       "      <td>Ana</td>\n",
       "      <td>22</td>\n",
       "      <td>F</td>\n",
       "      <td>2000.0</td>\n",
       "    </tr>\n",
       "    <tr>\n",
       "      <th>2</th>\n",
       "      <td>3</td>\n",
       "      <td>Carlos</td>\n",
       "      <td>56</td>\n",
       "      <td>M</td>\n",
       "      <td>3000.0</td>\n",
       "    </tr>\n",
       "    <tr>\n",
       "      <th>3</th>\n",
       "      <td>4</td>\n",
       "      <td>Luiz Santana</td>\n",
       "      <td>42</td>\n",
       "      <td>M</td>\n",
       "      <td>18000.0</td>\n",
       "    </tr>\n",
       "    <tr>\n",
       "      <th>4</th>\n",
       "      <td>5</td>\n",
       "      <td>Patrícia Sampaio</td>\n",
       "      <td>50</td>\n",
       "      <td>F</td>\n",
       "      <td>5000.0</td>\n",
       "    </tr>\n",
       "  </tbody>\n",
       "</table>\n",
       "</div>"
      ],
      "text/plain": [
       "   matricula     nome_completo  idade sexo  renda_familiar\n",
       "0          1             Roger     50    M          5000.0\n",
       "1          2               Ana     22    F          2000.0\n",
       "2          3            Carlos     56    M          3000.0\n",
       "3          4      Luiz Santana     42    M         18000.0\n",
       "4          5  Patrícia Sampaio     50    F          5000.0"
      ]
     },
     "execution_count": 31,
     "metadata": {},
     "output_type": "execute_result"
    }
   ],
   "source": [
    "query = \"SELECT * FROM Aluno\"\n",
    "alunos_ = pd.read_sql_query(query,conexao)\n",
    "alunos_"
   ]
  },
  {
   "cell_type": "markdown",
   "id": "5e18e112",
   "metadata": {},
   "source": [
    "####  Exemplo de DELETE"
   ]
  },
  {
   "cell_type": "markdown",
   "id": "722bb618",
   "metadata": {},
   "source": [
    "<img src = \"images/query_delete.PNG\">"
   ]
  },
  {
   "cell_type": "code",
   "execution_count": 33,
   "id": "aa4314c0",
   "metadata": {},
   "outputs": [
    {
     "data": {
      "text/plain": [
       "<pyodbc.Cursor at 0x25a70c25430>"
      ]
     },
     "execution_count": 33,
     "metadata": {},
     "output_type": "execute_result"
    }
   ],
   "source": [
    "query_exclusao = \"DELETE FROM Aluno WHERE matricula = 5\"\n",
    "cursor.execute(query_exclusao)"
   ]
  },
  {
   "cell_type": "code",
   "execution_count": 34,
   "id": "31f5fb84",
   "metadata": {},
   "outputs": [
    {
     "data": {
      "text/html": [
       "<div>\n",
       "<style scoped>\n",
       "    .dataframe tbody tr th:only-of-type {\n",
       "        vertical-align: middle;\n",
       "    }\n",
       "\n",
       "    .dataframe tbody tr th {\n",
       "        vertical-align: top;\n",
       "    }\n",
       "\n",
       "    .dataframe thead th {\n",
       "        text-align: right;\n",
       "    }\n",
       "</style>\n",
       "<table border=\"1\" class=\"dataframe\">\n",
       "  <thead>\n",
       "    <tr style=\"text-align: right;\">\n",
       "      <th></th>\n",
       "      <th>matricula</th>\n",
       "      <th>nome_completo</th>\n",
       "      <th>idade</th>\n",
       "      <th>sexo</th>\n",
       "      <th>renda_familiar</th>\n",
       "    </tr>\n",
       "  </thead>\n",
       "  <tbody>\n",
       "    <tr>\n",
       "      <th>0</th>\n",
       "      <td>1</td>\n",
       "      <td>Roger</td>\n",
       "      <td>50</td>\n",
       "      <td>M</td>\n",
       "      <td>5000.0</td>\n",
       "    </tr>\n",
       "    <tr>\n",
       "      <th>1</th>\n",
       "      <td>2</td>\n",
       "      <td>Ana</td>\n",
       "      <td>22</td>\n",
       "      <td>F</td>\n",
       "      <td>2000.0</td>\n",
       "    </tr>\n",
       "    <tr>\n",
       "      <th>2</th>\n",
       "      <td>3</td>\n",
       "      <td>Carlos</td>\n",
       "      <td>56</td>\n",
       "      <td>M</td>\n",
       "      <td>3000.0</td>\n",
       "    </tr>\n",
       "    <tr>\n",
       "      <th>3</th>\n",
       "      <td>4</td>\n",
       "      <td>Luiz Santana</td>\n",
       "      <td>42</td>\n",
       "      <td>M</td>\n",
       "      <td>18000.0</td>\n",
       "    </tr>\n",
       "  </tbody>\n",
       "</table>\n",
       "</div>"
      ],
      "text/plain": [
       "   matricula nome_completo  idade sexo  renda_familiar\n",
       "0          1         Roger     50    M          5000.0\n",
       "1          2           Ana     22    F          2000.0\n",
       "2          3        Carlos     56    M          3000.0\n",
       "3          4  Luiz Santana     42    M         18000.0"
      ]
     },
     "execution_count": 34,
     "metadata": {},
     "output_type": "execute_result"
    }
   ],
   "source": [
    "query = \"SELECT * FROM Aluno\"\n",
    "alunos_ = pd.read_sql_query(query,conexao)\n",
    "alunos_"
   ]
  },
  {
   "cell_type": "markdown",
   "id": "f3b5e444",
   "metadata": {},
   "source": [
    "### 3. Fechando as conexões"
   ]
  },
  {
   "cell_type": "markdown",
   "id": "30887d9b",
   "metadata": {},
   "source": [
    "Depois de utilizar o banco, você deve encerrar a conexão incluindo cursores via Python."
   ]
  },
  {
   "cell_type": "code",
   "execution_count": 36,
   "id": "01395b54",
   "metadata": {},
   "outputs": [],
   "source": [
    "cursor.close()\n",
    "conexao.close()"
   ]
  },
  {
   "cell_type": "markdown",
   "id": "cb68aa27",
   "metadata": {},
   "source": [
    "Dica: você pode ter um módulo no seu código com as funções para manipular o banco de dados como, por exemplo, abrir_conexao, executar_query e chamá-las todas as vezes que precisar. Considere também tratas as exceções dentro de cada função. É considerado uma boa prática."
   ]
  },
  {
   "cell_type": "markdown",
   "id": "b983654e",
   "metadata": {},
   "source": [
    "<b> Referências: </b> </p> https://wiki.python.org.br/BancosDeDadosSql </p>\n",
    "https://datatofish.com/how-to-connect-python-to-sql-server-using-pyodbc/ </p>\n",
    "https://code.google.com/archive/p/pyodbc/wikis/Cursor.wiki </p>\n",
    "https://pandas.pydata.org/docs/reference/api/pandas.read_sql_query.html </p>\n",
    "https://www.w3schools.com/sql/default.asp </p>"
   ]
  }
 ],
 "metadata": {
  "kernelspec": {
   "display_name": "Python 3 (ipykernel)",
   "language": "python",
   "name": "python3"
  },
  "language_info": {
   "codemirror_mode": {
    "name": "ipython",
    "version": 3
   },
   "file_extension": ".py",
   "mimetype": "text/x-python",
   "name": "python",
   "nbconvert_exporter": "python",
   "pygments_lexer": "ipython3",
   "version": "3.9.7"
  }
 },
 "nbformat": 4,
 "nbformat_minor": 5
}
